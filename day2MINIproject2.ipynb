{
  "nbformat": 4,
  "nbformat_minor": 0,
  "metadata": {
    "colab": {
      "provenance": [],
      "authorship_tag": "ABX9TyP1vkrI6DI4+SliLqXZ3V5l",
      "include_colab_link": true
    },
    "kernelspec": {
      "name": "python3",
      "display_name": "Python 3"
    },
    "language_info": {
      "name": "python"
    }
  },
  "cells": [
    {
      "cell_type": "markdown",
      "metadata": {
        "id": "view-in-github",
        "colab_type": "text"
      },
      "source": [
        "<a href=\"https://colab.research.google.com/github/ranvir7123/Mini-Project-02-Challenge-Question-/blob/main/day2MINIproject2.ipynb\" target=\"_parent\"><img src=\"https://colab.research.google.com/assets/colab-badge.svg\" alt=\"Open In Colab\"/></a>"
      ]
    },
    {
      "cell_type": "code",
      "execution_count": null,
      "metadata": {
        "colab": {
          "base_uri": "https://localhost:8080/"
        },
        "id": "QKqCYRen0X-8",
        "outputId": "a51fda4a-bb0e-48ca-8976-486b8d23c71a"
      },
      "outputs": [
        {
          "output_type": "stream",
          "name": "stdout",
          "text": [
            "[0, 1, 2, 2, 3, 3, 5, 'aran', 'ram', 'sham']\n"
          ]
        }
      ],
      "source": [
        "l = [\"ram\",1,\"sham\",2,\"aran\",3,0,5,3,2]\n",
        "l1 = []\n",
        "l2 = []\n",
        "for x in l:\n",
        "\n",
        "\n",
        "  try:\n",
        "    l1.append(int(x))\n",
        "  except:\n",
        "      l2.append(x)\n",
        "l1.sort()\n",
        "l2.sort()\n",
        "\n",
        "l3= l1+l2\n",
        "print(l3)\n",
        "#or\n",
        "\n"
      ]
    }
  ]
}